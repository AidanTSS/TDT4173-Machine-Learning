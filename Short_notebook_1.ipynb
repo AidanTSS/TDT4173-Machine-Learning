{
 "cells": [
  {
   "cell_type": "markdown",
   "id": "54d318c3-43e5-413f-a80e-f6e990d95179",
   "metadata": {},
   "source": [
    "##TEAM MEMBERS\n",
    "\n",
    "Aidan Stautland, 502841; Christian Torhaug, 564355; Jens Skaug, STUDID"
   ]
  },
  {
   "cell_type": "code",
   "execution_count": 1,
   "id": "f11a85d1-1da9-4b7c-a925-3a1b682388d2",
   "metadata": {},
   "outputs": [],
   "source": [
    "import pandas as pd\n",
    "from datetime import datetime"
   ]
  },
  {
   "cell_type": "markdown",
   "id": "d795c0d5-96b8-4bda-95df-a7d0df3697db",
   "metadata": {},
   "source": [
    "ais_sample_submission.csv"
   ]
  },
  {
   "cell_type": "code",
   "execution_count": 4,
   "id": "52a4fcd7-0fa8-4866-ae47-b7666655e343",
   "metadata": {
    "tags": []
   },
   "outputs": [],
   "source": [
    "sampledf = pd.read_csv(\"ais_sample_submission.csv\")\n",
    "\n",
    "sampledf[\"latitude_predicted\"] = sampledf[\"latitude_predicted\"].apply(lambda x: float(x))\n",
    "sampledf[\"longitude_predicted\"] = sampledf[\"longitude_predicted\"].apply(lambda x: float(x))"
   ]
  },
  {
   "cell_type": "markdown",
   "id": "bbd046a4-909a-43b6-b859-acf7fc2a3532",
   "metadata": {
    "tags": []
   },
   "source": [
    "ais_test.csv"
   ]
  },
  {
   "cell_type": "code",
   "execution_count": 5,
   "id": "57fb181c-5054-42eb-ad17-7c1636e87dcf",
   "metadata": {
    "tags": []
   },
   "outputs": [],
   "source": [
    "testdf = pd.read_csv(\"ais_test.csv\", nrows=10) #nrows to speed up action\n",
    "\n",
    "testdf[\"time\"] = testdf[\"time\"].apply(lambda x: datetime.strptime(x, \"%Y-%m-%d %H:%M:%S\"))\n",
    "testdf[\"scaling_factor\"] = testdf[\"scaling_factor\"].apply(lambda x: float(x))"
   ]
  },
  {
   "cell_type": "markdown",
   "id": "3904c6f1-ce80-42d0-ac0a-e9e06e45078b",
   "metadata": {},
   "source": [
    "ais_train.csv"
   ]
  },
  {
   "cell_type": "code",
   "execution_count": 11,
   "id": "10076f61-fb54-4eaf-b770-08b532f40609",
   "metadata": {
    "tags": []
   },
   "outputs": [],
   "source": [
    "traindf = pd.read_csv(\"~/Ais_Data/ais_train.csv\", sep=\"|\", nrows=50000) #nrows to speed up action\n",
    "\n",
    "def parseEta(row):\n",
    "    try:\n",
    "        return datetime.strptime(row['etaRaw'], \"%m-%d %H:%M\")\n",
    "    except ValueError:\n",
    "        return pd.NaT\n",
    "\n",
    "#traindf[\"time\"] = traindf[\"time\"].apply(lambda x: datetime.strptime(x, \"%Y-%m-%d %H:%M:%S\"))\n",
    "traindf[\"time\"] = pd.to_datetime(traindf[\"time\"]) \n",
    "traindf[\"cog\"] = traindf[\"cog\"].apply(lambda x: float(x) if float(x) < 360.0 else 360.0)\n",
    "traindf[\"sog\"] = traindf[\"sog\"].apply(lambda x: float(x) if float(x) <= 102.2 else 102.3)\n",
    "traindf[\"rot\"] = traindf[\"rot\"].apply(lambda x: float(x))\n",
    "traindf[\"heading\"] = traindf[\"heading\"].apply(lambda x: float(x))\n",
    "traindf[\"etaRaw\"] = traindf.apply(parseEta, axis=1)\n",
    "traindf[\"latitude\"] = traindf[\"latitude\"].apply(lambda x: float(x))\n",
    "traindf[\"longitude\"] = traindf[\"longitude\"].apply(lambda x: float(x))"
   ]
  },
  {
   "cell_type": "markdown",
   "id": "f8d1a308-b414-4c80-8dfa-5f241745525b",
   "metadata": {},
   "source": [
    "ports.csv"
   ]
  },
  {
   "cell_type": "code",
   "execution_count": 12,
   "id": "300bcee3-3599-4bc4-ba72-d727fd57a984",
   "metadata": {
    "tags": []
   },
   "outputs": [],
   "source": [
    "portsdf = pd.read_csv(\"ports.csv\", sep=\"|\")\n",
    "\n",
    "portsdf[\"latitude\"] = portsdf[\"latitude\"].apply(lambda x: float(x))\n",
    "portsdf[\"longitude\"] = portsdf[\"longitude\"].apply(lambda x: float(x))"
   ]
  },
  {
   "cell_type": "markdown",
   "id": "4e2a5db6-3378-4561-94a1-caa76c01f806",
   "metadata": {},
   "source": [
    "schedules_to_may_2024.csv"
   ]
  },
  {
   "cell_type": "code",
   "execution_count": 14,
   "id": "c88489f0-e85d-4015-9799-d6856c59b518",
   "metadata": {
    "tags": []
   },
   "outputs": [],
   "source": [
    "schedulesdf = pd.read_csv(\"~/Ais_Data/schedules_to_may_2024.csv\", sep=\"|\", nrows=500) #nrows to speed up action\n",
    "\n",
    "schedulesdf[\"arrivalDate\"] = schedulesdf[\"arrivalDate\"].apply(lambda x: datetime.fromisoformat(x) if pd.notna(x) else x)\n",
    "schedulesdf[\"sailingDate\"] = schedulesdf[\"sailingDate\"].apply(lambda x: datetime.fromisoformat(x))\n",
    "schedulesdf[\"portLatitude\"] = schedulesdf[\"portLatitude\"].apply(lambda x: float(x))\n",
    "schedulesdf[\"portLongitude\"] = schedulesdf[\"portLongitude\"].apply(lambda x: float(x))"
   ]
  },
  {
   "cell_type": "markdown",
   "id": "bff9b5b2-d1d1-4bc0-98d0-452f589c1150",
   "metadata": {
    "tags": []
   },
   "source": [
    "vessels.csv"
   ]
  },
  {
   "cell_type": "code",
   "execution_count": 16,
   "id": "59d2444d-748d-4bfe-90d4-65ab5e748596",
   "metadata": {
    "tags": []
   },
   "outputs": [],
   "source": [
    "vehiclesdf = pd.read_csv(\"vessels.csv\", sep=\"|\")\n",
    "\n",
    "vehiclesdf[\"CEU\"] = vehiclesdf[\"CEU\"].apply(lambda x: int(x) if pd.notna(x) else 0)\n",
    "vehiclesdf[\"DWT\"] = vehiclesdf[\"DWT\"].apply(lambda x: int(x) if pd.notna(x) else 0)\n",
    "vehiclesdf[\"GT\"] = vehiclesdf[\"GT\"].apply(lambda x: int(x) if pd.notna(x) else 0)\n",
    "vehiclesdf[\"NT\"] = vehiclesdf[\"NT\"].apply(lambda x: int(x) if pd.notna(x) else 0)\n",
    "vehiclesdf[\"vesselType\"] = vehiclesdf[\"vesselType\"].apply(lambda x: int(x) if pd.notna(x) else 0)\n",
    "vehiclesdf[\"breadth\"] = vehiclesdf[\"breadth\"].apply(lambda x: float(x) if pd.notna(x) else 0)\n",
    "vehiclesdf[\"depth\"] = vehiclesdf[\"depth\"].apply(lambda x: float(x) if pd.notna(x) else 0)\n",
    "vehiclesdf[\"draft\"] = vehiclesdf[\"draft\"].apply(lambda x: float(x) if pd.notna(x) else 0)\n",
    "vehiclesdf[\"enginePower\"] = vehiclesdf[\"enginePower\"].apply(lambda x: float(x) if pd.notna(x) else 0)\n",
    "vehiclesdf[\"freshWater\"] = vehiclesdf[\"freshWater\"].apply(lambda x: float(x) if pd.notna(x) else 0)\n",
    "vehiclesdf[\"fuel\"] = vehiclesdf[\"fuel\"].apply(lambda x: float(x) if pd.notna(x) else 0)\n",
    "vehiclesdf[\"length\"] = vehiclesdf[\"length\"].apply(lambda x: float(x) if pd.notna(x) else 0)\n",
    "vehiclesdf[\"maxHeight\"] = vehiclesdf[\"maxHeight\"].apply(lambda x: float(x) if pd.notna(x) else 0)\n",
    "vehiclesdf[\"maxSpeed\"] = vehiclesdf[\"maxSpeed\"].apply(lambda x: float(x) if pd.notna(x) else 0)\n",
    "vehiclesdf[\"maxWidth\"] = vehiclesdf[\"maxWidth\"].apply(lambda x: float(x) if pd.notna(x) else 0)\n",
    "vehiclesdf[\"rampCapacity\"] = vehiclesdf[\"rampCapacity\"].apply(lambda x: float(x) if pd.notna(x) else 0)\n",
    "vehiclesdf[\"yearBuilt\"] = vehiclesdf[\"yearBuilt\"].apply(lambda x: datetime.strptime(str(x), \"%Y\"))"
   ]
  },
  {
   "cell_type": "markdown",
   "id": "c5105661-a278-4644-8f38-68ea007b3627",
   "metadata": {},
   "source": [
    "Function for calculating time difference"
   ]
  },
  {
   "cell_type": "code",
   "execution_count": 17,
   "id": "34db8edf-203d-415b-afc7-3cd425e4dda4",
   "metadata": {
    "tags": []
   },
   "outputs": [],
   "source": [
    "def timeDiff(t1: datetime, t2: datetime, i=\"s\"):\n",
    "    diff = t1 - t2 if t1 >= t2  else t2 - t1\n",
    "    if i == \"s\":\n",
    "        return diff.total_seconds()\n",
    "    elif i == \"m\":\n",
    "        return diff.total_seconds() // 60\n",
    "    elif i == \"h\":\n",
    "        return diff.total_seconds() // 3600\n",
    "    elif i == \"d\":\n",
    "        return diff.days\n",
    "    else:\n",
    "        return 0"
   ]
  },
  {
   "cell_type": "markdown",
   "id": "b5dce401-48f3-416d-bfdf-3b0b3bdd2222",
   "metadata": {
    "tags": []
   },
   "source": [
    "Adding WORKING_SIZE previous nodes to the ais_train dataframe"
   ]
  },
  {
   "cell_type": "code",
   "execution_count": 19,
   "id": "e5744bef-e36d-4eba-99a2-3bd08be69135",
   "metadata": {
    "tags": []
   },
   "outputs": [],
   "source": [
    "def prev_nodes(traindf: pd.DataFrame, vesselId: str, WINDOW_SIZE=1):\n",
    "    vessel_data = traindf[traindf['vesselId'] == vesselId]\n",
    "    for i in range(1, len(vessel_data)): #Adding WINDOW_SIZE previous nodes with time diff\n",
    "        nowTime = vessel_data[\"time\"].iloc[i]\n",
    "        ind = vessel_data.iloc[i].name\n",
    "\n",
    "        for j in range(1, WINDOW_SIZE+1):\n",
    "            if i-j >= 0:\n",
    "                diff = timeDiff(vessel_data[\"time\"].iloc[i-j], nowTime)\n",
    "                latitude, longitude = vessel_data[\"latitude\"].iloc[i-j], vessel_data[\"longitude\"].iloc[i-j]\n",
    "                    \n",
    "                traindf.loc[ind, \"latitude_\" + str(j)] = latitude\n",
    "                traindf.loc[ind, \"longitude_\" + str(j)] = longitude\n",
    "                traindf.loc[ind, \"Time_\" + str(j)] = diff"
   ]
  },
  {
   "cell_type": "markdown",
   "id": "06055e33-ff33-4864-b0ca-124912b8ac4e",
   "metadata": {},
   "source": [
    "Checking if a boat is on a schedule"
   ]
  },
  {
   "cell_type": "code",
   "execution_count": 20,
   "id": "185b1c6a-0e42-4964-8627-75b8e20bc58d",
   "metadata": {
    "tags": []
   },
   "outputs": [],
   "source": [
    "def onSchedule(schedulesdf: pd.DataFrame, vesselId: str, time: datetime):\n",
    "    vessel_schedules = schedulesdf[schedulesdf['vesselId'] == vesselId]\n",
    "    fitting_schedule = (vessel_schedules[\"sailingDate\"] >= time) & (vessel_schedules[\"arrivalDate\"] <= time)\n",
    "    if fitting_schedule.any():\n",
    "        return vessel_schedules.loc[fitting_schedule.idxmax()]\n",
    "    else:\n",
    "        return None"
   ]
  },
  {
   "cell_type": "markdown",
   "id": "f1a1539d-fb43-4454-b885-d0c58533ac05",
   "metadata": {},
   "source": [
    "Creating a submission"
   ]
  },
  {
   "cell_type": "code",
   "execution_count": 22,
   "id": "2abac785-c94d-4c2e-b224-fcbfde22a3d6",
   "metadata": {
    "tags": []
   },
   "outputs": [],
   "source": [
    "def submission(sampledf: pd.DataFrame, testdf: pd.DataFrame, deliver=False, name=\"SampleTest\") -> pd.DataFrame:\n",
    "    sample = sampledf.copy()\n",
    "\n",
    "    for i in range(len(testdf)):\n",
    "        vessel_data = traindf[traindf['vesselId'] == testdf.loc[i, \"vesselId\"]]\n",
    "        row = vessel_data.sort_values(by=\"time\").iloc[-1]\n",
    "        sample.loc[i,\"longitude_predicted\"], sample.loc[i, \"latitude_predicted\"] = row[\"longitude\"], row[\"latitude\"]\n",
    "    \n",
    "    if deliver:\n",
    "        sample.to_csv(name + \".csv\", index=False)\n",
    "        \n",
    "    return sample\n",
    "\n",
    "sample = submission(sampledf, testdf) \n",
    "#sample = submission(sampledf, testdf, True, \"Test1\")"
   ]
  },
  {
   "cell_type": "code",
   "execution_count": null,
   "id": "d0594071-34d1-452b-afe4-f171ce1d4c74",
   "metadata": {},
   "outputs": [],
   "source": []
  }
 ],
 "metadata": {
  "environment": {
   "kernel": "python3",
   "name": "common-cpu.m125",
   "type": "gcloud",
   "uri": "us-docker.pkg.dev/deeplearning-platform-release/gcr.io/base-cpu:m125"
  },
  "kernelspec": {
   "display_name": "Python 3 (Local)",
   "language": "python",
   "name": "python3"
  },
  "language_info": {
   "codemirror_mode": {
    "name": "ipython",
    "version": 3
   },
   "file_extension": ".py",
   "mimetype": "text/x-python",
   "name": "python",
   "nbconvert_exporter": "python",
   "pygments_lexer": "ipython3",
   "version": "3.10.15"
  }
 },
 "nbformat": 4,
 "nbformat_minor": 5
}
