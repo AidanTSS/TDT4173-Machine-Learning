{
 "cells": [
  {
   "cell_type": "markdown",
   "id": "54d318c3-43e5-413f-a80e-f6e990d95179",
   "metadata": {},
   "source": [
    "##TEAM MEMBERS\n",
    "\n",
    "Aidan Stautland, 502841; Christian Torhaug, 564355; Jens Skaug, STUDID"
   ]
  },
  {
   "cell_type": "code",
   "execution_count": 2,
   "id": "f11a85d1-1da9-4b7c-a925-3a1b682388d2",
   "metadata": {},
   "outputs": [],
   "source": [
    "import pandas as pd\n",
    "import plotly.express as px\n",
    "import plotly.graph_objects as go"
   ]
  },
  {
   "cell_type": "code",
   "execution_count": 3,
   "id": "52a4fcd7-0fa8-4866-ae47-b7666655e343",
   "metadata": {
    "tags": []
   },
   "outputs": [
    {
     "data": {
      "text/html": [
       "<div>\n",
       "<style scoped>\n",
       "    .dataframe tbody tr th:only-of-type {\n",
       "        vertical-align: middle;\n",
       "    }\n",
       "\n",
       "    .dataframe tbody tr th {\n",
       "        vertical-align: top;\n",
       "    }\n",
       "\n",
       "    .dataframe thead th {\n",
       "        text-align: right;\n",
       "    }\n",
       "</style>\n",
       "<table border=\"1\" class=\"dataframe\">\n",
       "  <thead>\n",
       "    <tr style=\"text-align: right;\">\n",
       "      <th></th>\n",
       "      <th>time</th>\n",
       "      <th>cog</th>\n",
       "      <th>sog</th>\n",
       "      <th>rot</th>\n",
       "      <th>heading</th>\n",
       "      <th>navstat</th>\n",
       "      <th>etaRaw</th>\n",
       "      <th>latitude</th>\n",
       "      <th>longitude</th>\n",
       "      <th>vesselId</th>\n",
       "      <th>portId</th>\n",
       "    </tr>\n",
       "  </thead>\n",
       "  <tbody>\n",
       "    <tr>\n",
       "      <th>1522060</th>\n",
       "      <td>2024-05-07 23:59:07</td>\n",
       "      <td>359.1</td>\n",
       "      <td>13.4</td>\n",
       "      <td>0</td>\n",
       "      <td>1</td>\n",
       "      <td>0</td>\n",
       "      <td>05-08 05:00</td>\n",
       "      <td>52.19131</td>\n",
       "      <td>-5.82223</td>\n",
       "      <td>clh6aqawa0002gh0zypfa5dut</td>\n",
       "      <td>634c4de270937fc01c3a7417</td>\n",
       "    </tr>\n",
       "    <tr>\n",
       "      <th>1522061</th>\n",
       "      <td>2024-05-07 23:59:08</td>\n",
       "      <td>12.3</td>\n",
       "      <td>17.1</td>\n",
       "      <td>0</td>\n",
       "      <td>13</td>\n",
       "      <td>0</td>\n",
       "      <td>05-10 03:00</td>\n",
       "      <td>38.96142</td>\n",
       "      <td>-12.00502</td>\n",
       "      <td>61e9f3aeb937134a3c4bfe43</td>\n",
       "      <td>634c4de270937fc01c3a76a1</td>\n",
       "    </tr>\n",
       "    <tr>\n",
       "      <th>1522062</th>\n",
       "      <td>2024-05-07 23:59:08</td>\n",
       "      <td>269.8</td>\n",
       "      <td>14.9</td>\n",
       "      <td>-1</td>\n",
       "      <td>270</td>\n",
       "      <td>0</td>\n",
       "      <td>05-15 23:00</td>\n",
       "      <td>49.71372</td>\n",
       "      <td>-5.22042</td>\n",
       "      <td>61e9f43db937134a3c4c0169</td>\n",
       "      <td>634c4de270937fc01c3a787b</td>\n",
       "    </tr>\n",
       "    <tr>\n",
       "      <th>1522063</th>\n",
       "      <td>2024-05-07 23:59:08</td>\n",
       "      <td>8.0</td>\n",
       "      <td>18.7</td>\n",
       "      <td>0</td>\n",
       "      <td>6</td>\n",
       "      <td>0</td>\n",
       "      <td>05-08 12:45</td>\n",
       "      <td>38.27895</td>\n",
       "      <td>10.78280</td>\n",
       "      <td>61e9f469b937134a3c4c029b</td>\n",
       "      <td>61d3781293c6feb83e5eb73b</td>\n",
       "    </tr>\n",
       "    <tr>\n",
       "      <th>1522064</th>\n",
       "      <td>2024-05-07 23:59:08</td>\n",
       "      <td>336.0</td>\n",
       "      <td>14.3</td>\n",
       "      <td>5</td>\n",
       "      <td>337</td>\n",
       "      <td>0</td>\n",
       "      <td>05-07 23:00</td>\n",
       "      <td>38.98635</td>\n",
       "      <td>-75.13275</td>\n",
       "      <td>62080cff66fc0a8e43c6123a</td>\n",
       "      <td>61d38528b7b7526e1adf3e6f</td>\n",
       "    </tr>\n",
       "  </tbody>\n",
       "</table>\n",
       "</div>"
      ],
      "text/plain": [
       "                       time    cog   sog  rot  heading  navstat       etaRaw  \\\n",
       "1522060 2024-05-07 23:59:07  359.1  13.4    0        1        0  05-08 05:00   \n",
       "1522061 2024-05-07 23:59:08   12.3  17.1    0       13        0  05-10 03:00   \n",
       "1522062 2024-05-07 23:59:08  269.8  14.9   -1      270        0  05-15 23:00   \n",
       "1522063 2024-05-07 23:59:08    8.0  18.7    0        6        0  05-08 12:45   \n",
       "1522064 2024-05-07 23:59:08  336.0  14.3    5      337        0  05-07 23:00   \n",
       "\n",
       "         latitude  longitude                   vesselId  \\\n",
       "1522060  52.19131   -5.82223  clh6aqawa0002gh0zypfa5dut   \n",
       "1522061  38.96142  -12.00502   61e9f3aeb937134a3c4bfe43   \n",
       "1522062  49.71372   -5.22042   61e9f43db937134a3c4c0169   \n",
       "1522063  38.27895   10.78280   61e9f469b937134a3c4c029b   \n",
       "1522064  38.98635  -75.13275   62080cff66fc0a8e43c6123a   \n",
       "\n",
       "                           portId  \n",
       "1522060  634c4de270937fc01c3a7417  \n",
       "1522061  634c4de270937fc01c3a76a1  \n",
       "1522062  634c4de270937fc01c3a787b  \n",
       "1522063  61d3781293c6feb83e5eb73b  \n",
       "1522064  61d38528b7b7526e1adf3e6f  "
      ]
     },
     "execution_count": 3,
     "metadata": {},
     "output_type": "execute_result"
    }
   ],
   "source": [
    "train = pd.read_csv('~/Ais_Data/ais_train.csv', sep='|')\n",
    "train['time'] = pd.to_datetime(train['time'])\n",
    "train.tail()"
   ]
  },
  {
   "cell_type": "code",
   "execution_count": 7,
   "id": "a85b7ad1-0ceb-40d6-ae76-3eb3316f28cc",
   "metadata": {
    "tags": []
   },
   "outputs": [],
   "source": [
    "df = train[train['vesselId'] == \"61e9f3aeb937134a3c4bfe3d\"].sort_values(by='time')"
   ]
  },
  {
   "cell_type": "code",
   "execution_count": 9,
   "id": "57fb181c-5054-42eb-ad17-7c1636e87dcf",
   "metadata": {
    "tags": []
   },
   "outputs": [
    {
     "name": "stdout",
     "output_type": "stream",
     "text": [
      "<class 'pandas.core.frame.DataFrame'>\n",
      "Index: 1939 entries, 44159 to 1521883\n",
      "Data columns (total 11 columns):\n",
      " #   Column     Non-Null Count  Dtype         \n",
      "---  ------     --------------  -----         \n",
      " 0   time       1939 non-null   datetime64[ns]\n",
      " 1   cog        1939 non-null   float64       \n",
      " 2   sog        1939 non-null   float64       \n",
      " 3   rot        1939 non-null   int64         \n",
      " 4   heading    1939 non-null   int64         \n",
      " 5   navstat    1939 non-null   int64         \n",
      " 6   etaRaw     1939 non-null   object        \n",
      " 7   latitude   1939 non-null   float64       \n",
      " 8   longitude  1939 non-null   float64       \n",
      " 9   vesselId   1939 non-null   object        \n",
      " 10  portId     1939 non-null   object        \n",
      "dtypes: datetime64[ns](1), float64(4), int64(3), object(3)\n",
      "memory usage: 181.8+ KB\n"
     ]
    }
   ],
   "source": [
    "df.info()"
   ]
  },
  {
   "cell_type": "code",
   "execution_count": null,
   "id": "fee466db-2350-4af4-9695-21463393e328",
   "metadata": {},
   "outputs": [],
   "source": []
  }
 ],
 "metadata": {
  "environment": {
   "kernel": "python3",
   "name": "common-cpu.m125",
   "type": "gcloud",
   "uri": "us-docker.pkg.dev/deeplearning-platform-release/gcr.io/base-cpu:m125"
  },
  "kernelspec": {
   "display_name": "Python 3 (Local)",
   "language": "python",
   "name": "python3"
  },
  "language_info": {
   "codemirror_mode": {
    "name": "ipython",
    "version": 3
   },
   "file_extension": ".py",
   "mimetype": "text/x-python",
   "name": "python",
   "nbconvert_exporter": "python",
   "pygments_lexer": "ipython3",
   "version": "3.10.15"
  }
 },
 "nbformat": 4,
 "nbformat_minor": 5
}
